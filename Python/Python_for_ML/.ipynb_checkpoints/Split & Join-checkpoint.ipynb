{
 "cells": [
  {
   "cell_type": "markdown",
   "id": "a82da87e",
   "metadata": {},
   "source": [
    "# Pythonic Code\n",
    "\n",
    "* 파이썬 특유의 문법을 활용하여 효율적으로 코드를 표현함\n",
    "* 고급 코드를 작성할 수록 더 많이 필요해짐"
   ]
  },
  {
   "cell_type": "markdown",
   "id": "6537e011",
   "metadata": {},
   "source": [
    "## Split 함수\n",
    "### - String Type의 값을 나눠서 List 형태로 변환"
   ]
  },
  {
   "cell_type": "code",
   "execution_count": 3,
   "id": "c41d3787",
   "metadata": {},
   "outputs": [
    {
     "name": "stdout",
     "output_type": "stream",
     "text": [
      "['zero', 'one', 'two', 'three']\n"
     ]
    }
   ],
   "source": [
    "items = 'zero one two three'.split() #빈칸을 기준으로 문자열 나누기 \n",
    "print(items)"
   ]
  },
  {
   "cell_type": "code",
   "execution_count": 15,
   "id": "63e00f68",
   "metadata": {},
   "outputs": [
    {
     "data": {
      "text/plain": [
       "['python', 'jquery', 'javascript']"
      ]
     },
     "execution_count": 15,
     "metadata": {},
     "output_type": "execute_result"
    }
   ],
   "source": [
    "example = 'python,jquery,javascript' #\",\"을 기준으로 문자열 나누기\n",
    "example.split(\",\")"
   ]
  },
  {
   "cell_type": "code",
   "execution_count": 20,
   "id": "2ad9d101",
   "metadata": {},
   "outputs": [
    {
     "name": "stdout",
     "output_type": "stream",
     "text": [
      "python\n",
      "jquery javascript\n"
     ]
    }
   ],
   "source": [
    "a, b, c = example.split(\",\")\n",
    "#리스트에 있는 각 값을 a, b, c 변수로 unpacking\n",
    "\n",
    "print(a)\n",
    "print(b, c)"
   ]
  },
  {
   "cell_type": "code",
   "execution_count": 21,
   "id": "b00d1586",
   "metadata": {},
   "outputs": [],
   "source": [
    "example = 'cs50.gachon.edu'"
   ]
  },
  {
   "cell_type": "code",
   "execution_count": 23,
   "id": "1ea0a5d2",
   "metadata": {},
   "outputs": [
    {
     "name": "stdout",
     "output_type": "stream",
     "text": [
      "cs50\n"
     ]
    }
   ],
   "source": [
    "subdomain, domain, tld = example.split('.')\n",
    "#\".\"을 기준으로 문자열 나누기 -> Unpacking\n",
    "\n",
    "print(subdomain)"
   ]
  },
  {
   "cell_type": "markdown",
   "id": "0fd3e6ac",
   "metadata": {},
   "source": [
    "## Join 함수\n",
    "### - String List를 합쳐 하나의 String으로 반환할 때 사용"
   ]
  },
  {
   "cell_type": "code",
   "execution_count": 24,
   "id": "9c726d22",
   "metadata": {},
   "outputs": [
    {
     "data": {
      "text/plain": [
       "'redbluegreenyellow'"
      ]
     },
     "execution_count": 24,
     "metadata": {},
     "output_type": "execute_result"
    }
   ],
   "source": [
    "colors = ['red', 'blue', 'green', 'yellow']\n",
    "result = ''.join(colors)\n",
    "result"
   ]
  },
  {
   "cell_type": "code",
   "execution_count": 26,
   "id": "656767d5",
   "metadata": {},
   "outputs": [
    {
     "data": {
      "text/plain": [
       "'red blue green yellow'"
      ]
     },
     "execution_count": 26,
     "metadata": {},
     "output_type": "execute_result"
    }
   ],
   "source": [
    "result = ' '.join(colors) #연결 시 빈칸 1칸으로 연결\n",
    "result"
   ]
  },
  {
   "cell_type": "code",
   "execution_count": 27,
   "id": "813751f3",
   "metadata": {},
   "outputs": [
    {
     "data": {
      "text/plain": [
       "'red, blue, green, yellow'"
      ]
     },
     "execution_count": 27,
     "metadata": {},
     "output_type": "execute_result"
    }
   ],
   "source": [
    "result = ', '.join(colors) #연결 시 \", \"으로 연결\n",
    "result"
   ]
  },
  {
   "cell_type": "code",
   "execution_count": 28,
   "id": "29f43992",
   "metadata": {},
   "outputs": [
    {
     "data": {
      "text/plain": [
       "'red-blue-green-yellow'"
      ]
     },
     "execution_count": 28,
     "metadata": {},
     "output_type": "execute_result"
    }
   ],
   "source": [
    "result = '-'.join(colors) #연결 시 \"-\"으로 연결\n",
    "result"
   ]
  }
 ],
 "metadata": {
  "kernelspec": {
   "display_name": "Python 3",
   "language": "python",
   "name": "python3"
  },
  "language_info": {
   "codemirror_mode": {
    "name": "ipython",
    "version": 3
   },
   "file_extension": ".py",
   "mimetype": "text/x-python",
   "name": "python",
   "nbconvert_exporter": "python",
   "pygments_lexer": "ipython3",
   "version": "3.8.2"
  }
 },
 "nbformat": 4,
 "nbformat_minor": 5
}
