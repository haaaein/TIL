{
 "cells": [
  {
   "cell_type": "markdown",
   "id": "30311421",
   "metadata": {},
   "source": [
    "# Vector representation of python\n",
    "### - Vertor를 파이썬으로 표시하는 다양한 방법 존재"
   ]
  },
  {
   "cell_type": "code",
   "execution_count": 1,
   "id": "0b1187ab",
   "metadata": {},
   "outputs": [
    {
     "name": "stdout",
     "output_type": "stream",
     "text": [
      "[1, 2, 10] (1, 2, 10) {'x': 1, 'y': 1, 'z': 10}\n"
     ]
    }
   ],
   "source": [
    "vector_a = [1, 2, 10] #List로 표현했을 경우\n",
    "vector_b = (1, 2, 10) #Tuple로 표현했을 경우\n",
    "vector_c = {'x': 1, 'y':1, 'z':10} #dict로 표현했을 경우\n",
    "\n",
    "print(vector_a, vector_b, vector_c)"
   ]
  },
  {
   "cell_type": "markdown",
   "id": "bda8769a",
   "metadata": {},
   "source": [
    "### - 최선의 방법은 없음\n",
    "### - 값의 변경 유무, 속성 값 유무에 따라 선택할 수 있음\n",
    "### - 본 수업에서는 기본적으로 list로 vector 연산 실시"
   ]
  },
  {
   "cell_type": "markdown",
   "id": "232df999",
   "metadata": {},
   "source": [
    "## Vector의 계산"
   ]
  },
  {
   "cell_type": "code",
   "execution_count": 4,
   "id": "06f33bb1",
   "metadata": {},
   "outputs": [
    {
     "name": "stdout",
     "output_type": "stream",
     "text": [
      "[7, 10]\n"
     ]
    }
   ],
   "source": [
    "u = [2, 2]\n",
    "v = [2, 3]\n",
    "z = [3, 5]\n",
    "\n",
    "result = []\n",
    "for i in range(len(u)):\n",
    "    result.append(u[i] + v[i] + z[i]) #이런 코드는 파이썬 답지 못함\n",
    "    \n",
    "print(result)"
   ]
  },
  {
   "cell_type": "code",
   "execution_count": 9,
   "id": "caedcd11",
   "metadata": {},
   "outputs": [
    {
     "data": {
      "text/plain": [
       "[5, 7, 9]"
      ]
     },
     "execution_count": 9,
     "metadata": {},
     "output_type": "execute_result"
    }
   ],
   "source": [
    "u = [1, 2, 3]\n",
    "v = [4, 5, 6]\n",
    "[sum(z) for z in zip(u, v)]"
   ]
  },
  {
   "cell_type": "code",
   "execution_count": 7,
   "id": "21c11191",
   "metadata": {},
   "outputs": [
    {
     "name": "stdout",
     "output_type": "stream",
     "text": [
      "[7, 10]\n"
     ]
    }
   ],
   "source": [
    "result = [sum(t) for t in zip(u, v, z)] #같은 index에 있는 값끼리 sum\n",
    "print(result)"
   ]
  },
  {
   "cell_type": "markdown",
   "id": "3b116f50",
   "metadata": {},
   "source": [
    "## Vector의 계산: Scalar-Vector product"
   ]
  },
  {
   "cell_type": "code",
   "execution_count": 8,
   "id": "1e5da157",
   "metadata": {},
   "outputs": [
    {
     "name": "stdout",
     "output_type": "stream",
     "text": [
      "[10, 12, 14]\n"
     ]
    }
   ],
   "source": [
    "u = [1, 2, 3]\n",
    "v = [4, 4, 4]\n",
    "alpha = 2\n",
    "\n",
    "result = [alpha*sum(t) for t in zip(u, v)]\n",
    "print(result)"
   ]
  },
  {
   "cell_type": "code",
   "execution_count": 10,
   "id": "7886525d",
   "metadata": {},
   "outputs": [
    {
     "data": {
      "text/plain": [
       "[25, 35, 45]"
      ]
     },
     "execution_count": 10,
     "metadata": {},
     "output_type": "execute_result"
    }
   ],
   "source": [
    "u = [1, 2, 3]\n",
    "v = [4, 5, 6]\n",
    "\n",
    "[5 * sum(z) for z in zip(u, v)]"
   ]
  },
  {
   "cell_type": "markdown",
   "id": "ee0fa860",
   "metadata": {},
   "source": [
    "## Matrix representation of python\n",
    "### - Matrix 역시 Python으로 표시하는 다양한 방법이 존재"
   ]
  },
  {
   "cell_type": "code",
   "execution_count": 11,
   "id": "9aa1eb69",
   "metadata": {},
   "outputs": [],
   "source": [
    "matrix_a = [[3, 6], [4, 5]] #List로 표현했을 경우\n",
    "matrix_b = [(3, 6), (4, 5)] #Tuple로 표현했을 경우\n",
    "matrix_c = {(0, 0): 3, (0, 1): 6, (1, 0): 4, (1, 1): 5} #dict로 표현했을 경우"
   ]
  },
  {
   "cell_type": "markdown",
   "id": "285c781f",
   "metadata": {},
   "source": [
    "### - 특히 dict로 표현할 때는 무궁무진한 방법이 있음\n",
    "### - 본 수업에는 기본적으로 two-dimensional list 형태로 표현함\n",
    "### - [[1번째 row], [2번째 row], [3번째 row]]"
   ]
  },
  {
   "cell_type": "markdown",
   "id": "b54cfc15",
   "metadata": {},
   "source": [
    "## Matrix의 계산: Matrix addition"
   ]
  },
  {
   "cell_type": "code",
   "execution_count": 13,
   "id": "48af91dd",
   "metadata": {},
   "outputs": [
    {
     "name": "stdout",
     "output_type": "stream",
     "text": [
      "[[8, 14], [10, 12]]\n"
     ]
    }
   ],
   "source": [
    "matrix_a = [[3, 6], [4, 5]]\n",
    "matrix_b = [[5, 8], [6, 7]]\n",
    "result = [[sum(row) for row in zip(*t)] \n",
    "                    for t in zip(matrix_a, matrix_b)]\n",
    "\n",
    "print(result)"
   ]
  },
  {
   "cell_type": "markdown",
   "id": "2f27346c",
   "metadata": {},
   "source": [
    "## Matrix의 계산: Scalar-Matrix Product"
   ]
  },
  {
   "cell_type": "code",
   "execution_count": 14,
   "id": "5b7bf79b",
   "metadata": {},
   "outputs": [
    {
     "name": "stdout",
     "output_type": "stream",
     "text": [
      "[[12, 24], [16, 20]]\n"
     ]
    }
   ],
   "source": [
    "matrix_a = [[3, 6], [4, 5]]\n",
    "alpha = 4\n",
    "result = [[alpha * element for element in t] for t in matrix_a]\n",
    "\n",
    "print(result)"
   ]
  },
  {
   "cell_type": "markdown",
   "id": "46fcd2ff",
   "metadata": {},
   "source": [
    "## Matrix의 계산: Matrix Transpose"
   ]
  },
  {
   "cell_type": "code",
   "execution_count": 15,
   "id": "9b36ef35",
   "metadata": {},
   "outputs": [
    {
     "name": "stdout",
     "output_type": "stream",
     "text": [
      "[[1, 4], [2, 5], [3, 6]]\n"
     ]
    }
   ],
   "source": [
    "matrix_a = [[1, 2, 3], [4, 5, 6]]\n",
    "result = [ [element for element in t] for t in zip(*matrix_a)]\n",
    "\n",
    "print(result)"
   ]
  },
  {
   "cell_type": "markdown",
   "id": "42e9ba2f",
   "metadata": {},
   "source": [
    "## Matrix의 계산: Matrix Product"
   ]
  },
  {
   "cell_type": "code",
   "execution_count": 16,
   "id": "b1838660",
   "metadata": {},
   "outputs": [
    {
     "name": "stdout",
     "output_type": "stream",
     "text": [
      "[[5, 8], [5, 6]]\n"
     ]
    }
   ],
   "source": [
    "matrix_a = [[1, 1, 2], [2, 1, 1]]\n",
    "matrix_b = [[1, 1], [2, 1], [1, 3]]\n",
    "result = [[sum(a * b for a, b in zip(row_a, column_b))\n",
    "          for column_b in zip(*matrix_b)] for row_a in matrix_a]\n",
    "\n",
    "print(result)"
   ]
  }
 ],
 "metadata": {
  "kernelspec": {
   "display_name": "Python 3",
   "language": "python",
   "name": "python3"
  },
  "language_info": {
   "codemirror_mode": {
    "name": "ipython",
    "version": 3
   },
   "file_extension": ".py",
   "mimetype": "text/x-python",
   "name": "python",
   "nbconvert_exporter": "python",
   "pygments_lexer": "ipython3",
   "version": "3.8.2"
  }
 },
 "nbformat": 4,
 "nbformat_minor": 5
}
