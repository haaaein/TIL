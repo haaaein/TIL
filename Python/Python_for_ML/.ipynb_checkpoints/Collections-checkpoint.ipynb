{
 "cells": [
  {
   "cell_type": "markdown",
   "id": "4da3de94",
   "metadata": {},
   "source": [
    "# Collections\n",
    "### - List, Tuple, Dict에 대한 Python Built-in 확장 자료 구조(모듈)\n",
    "### - 편의성, 실행 효율 등을 사용자에게 제공함\n",
    "### - 아래의 모듈이 존재함\n",
    "\n",
    "* from collections import deque\n",
    "* from collections import Counter\n",
    "* from collections import OrderedDict\n",
    "* from collections import defaultdict\n",
    "* from colletions import namedtuple"
   ]
  },
  {
   "cell_type": "markdown",
   "id": "54524e73",
   "metadata": {},
   "source": [
    "# deque\n",
    "### - Stack과 Queue를 지원하는 모듈\n",
    "### - List에 비해 효율적인 자료 저장 방식을 지원함"
   ]
  },
  {
   "cell_type": "code",
   "execution_count": 9,
   "id": "0c5694ff",
   "metadata": {},
   "outputs": [
    {
     "name": "stdout",
     "output_type": "stream",
     "text": [
      "deque([0, 1, 2, 3, 4])\n",
      "deque([10, 0, 1, 2, 3, 4])\n",
      "deque([10, 0, 1, 2, 3, 4, 15])\n"
     ]
    }
   ],
   "source": [
    "from collections import deque\n",
    "\n",
    "deque_list = deque()\n",
    "for i in range(5):\n",
    "    deque_list.append(i)\n",
    "print(deque_list)\n",
    "\n",
    "deque_list.appendleft(10)\n",
    "print(deque_list)\n",
    "\n",
    "deque_list.append(15)\n",
    "print(deque_list)"
   ]
  },
  {
   "cell_type": "markdown",
   "id": "b4b547a2",
   "metadata": {},
   "source": [
    "### - rotate, reverse 등 Linked List의 특성을 지원함\n",
    "### - 기존 list 형태의 함수를 모두 지원함"
   ]
  },
  {
   "cell_type": "code",
   "execution_count": 10,
   "id": "0de05b6d",
   "metadata": {},
   "outputs": [
    {
     "name": "stdout",
     "output_type": "stream",
     "text": [
      "deque([4, 15, 10, 0, 1, 2, 3])\n",
      "deque([2, 3, 4, 15, 10, 0, 1])\n",
      "deque([2, 3, 4, 15, 10, 0, 1, 5, 6, 7])\n",
      "deque([7, 6, 5, 2, 3, 4, 15, 10, 0, 1, 5, 6, 7])\n",
      "deque([7, 6, 5, 2, 3, 4, 15, 10, 0, 1, 5, 6, 7])\n",
      "deque([7, 6, 5, 1, 0, 10, 15, 4, 3, 2, 5, 6, 7])\n"
     ]
    }
   ],
   "source": [
    "deque_list.rotate(2)\n",
    "print(deque_list)\n",
    "\n",
    "deque_list.rotate(2)\n",
    "print(deque_list)\n",
    "\n",
    "deque_list.extend([5, 6, 7])\n",
    "print(deque_list)\n",
    "\n",
    "deque_list.extendleft([5, 6, 7])\n",
    "print(deque_list)\n",
    "\n",
    "print(deque_list)\n",
    "print(deque(reversed(deque_list)))"
   ]
  },
  {
   "cell_type": "markdown",
   "id": "624d0dfb",
   "metadata": {},
   "source": [
    "### - deque는 기존 list보다 효율적인 자료구조를 제공\n",
    "### - 효율적 메모리 구조로 처리 속도 향상\n",
    "\n"
   ]
  },
  {
   "cell_type": "markdown",
   "id": "52cb152b",
   "metadata": {},
   "source": [
    "# OrderedDict\n",
    "\n",
    "### - Dict와 달리, 데이터를 입력한 순서대로 dict를 반환함"
   ]
  },
  {
   "cell_type": "code",
   "execution_count": 16,
   "id": "d59f4e73",
   "metadata": {},
   "outputs": [
    {
     "name": "stdout",
     "output_type": "stream",
     "text": [
      "x 100\n",
      "y 200\n",
      "z 300\n",
      "l 500\n"
     ]
    }
   ],
   "source": [
    "from collections import OrderedDict\n",
    "\n",
    "d = {}\n",
    "d['x'] = 100\n",
    "d['y'] = 200\n",
    "d['z'] = 300\n",
    "d['l'] = 500\n",
    "\n",
    "for k, v in d.items():\n",
    "    print(k, v)"
   ]
  },
  {
   "cell_type": "code",
   "execution_count": 18,
   "id": "98b49bf7",
   "metadata": {},
   "outputs": [
    {
     "name": "stdout",
     "output_type": "stream",
     "text": [
      "x 100\n",
      "y 200\n",
      "z 300\n",
      "l 500\n"
     ]
    }
   ],
   "source": [
    "d = OrderedDict()\n",
    "d['x'] = 100\n",
    "d['y'] = 200\n",
    "d['z'] = 300\n",
    "d['l'] = 500\n",
    "\n",
    "for k, v in d.items():\n",
    "    print(k, v)"
   ]
  },
  {
   "cell_type": "markdown",
   "id": "c8af1cd2",
   "metadata": {},
   "source": [
    "### - Dict type의 값을, value 또는 key 값으로 정렬할 때 사용 가능"
   ]
  },
  {
   "cell_type": "code",
   "execution_count": 19,
   "id": "bc7ddbc6",
   "metadata": {},
   "outputs": [
    {
     "name": "stdout",
     "output_type": "stream",
     "text": [
      "l 500\n",
      "x 100\n",
      "y 200\n",
      "z 300\n"
     ]
    }
   ],
   "source": [
    "for k, v in OrderedDict(sorted(d.items(), key=lambda t:t[0])).items():\n",
    "    print(k, v)"
   ]
  },
  {
   "cell_type": "code",
   "execution_count": 20,
   "id": "aeb8f537",
   "metadata": {},
   "outputs": [
    {
     "name": "stdout",
     "output_type": "stream",
     "text": [
      "x 100\n",
      "y 200\n",
      "z 300\n",
      "l 500\n"
     ]
    }
   ],
   "source": [
    "for k, v in OrderedDict(sorted(d.items(), key=lambda t:t[1])).items():\n",
    "    print(k, v)"
   ]
  },
  {
   "cell_type": "markdown",
   "id": "263cff2a",
   "metadata": {},
   "source": [
    "# defaultdict\n",
    "### - Dict type의 값에 기본 값을 지정, 신규값 생성시 사용하는 방법"
   ]
  },
  {
   "cell_type": "code",
   "execution_count": 23,
   "id": "cd72c797",
   "metadata": {},
   "outputs": [
    {
     "name": "stdout",
     "output_type": "stream",
     "text": [
      "0\n"
     ]
    }
   ],
   "source": [
    "from collections import defaultdict\n",
    "d = defaultdict(object)\n",
    "d = defaultdict(lambda: 0)\n",
    "print(d[\"first\"])"
   ]
  },
  {
   "cell_type": "code",
   "execution_count": 35,
   "id": "724546d2",
   "metadata": {},
   "outputs": [
    {
     "name": "stdout",
     "output_type": "stream",
     "text": [
      "{'A': 1, ' ': 11, 'p': 1, 'r': 3, 'e': 11, 's': 7, 'l': 1, 'a': 4, 'i': 3, 't': 5, 'h': 1, 'q': 1, 'c': 1, 'k': 1, 'n': 1, 'd': 2, 'w': 1, 'y': 1, 'o': 2, 'g': 1, 'f': 1, 'm': 1}\n",
      "  11\n",
      "e 11\n",
      "s 7\n",
      "t 5\n",
      "a 4\n",
      "r 3\n",
      "i 3\n",
      "d 2\n",
      "o 2\n",
      "A 1\n",
      "p 1\n",
      "l 1\n",
      "h 1\n",
      "q 1\n",
      "c 1\n",
      "k 1\n",
      "n 1\n",
      "w 1\n",
      "y 1\n",
      "g 1\n",
      "f 1\n",
      "m 1\n"
     ]
    }
   ],
   "source": [
    "from collections import OrderedDict\n",
    "\n",
    "text = \"\"\"A press release is the qickest and easiest way to get freedom\"\"\"\n",
    "\n",
    "word_count = {}\n",
    "for word in text:\n",
    "    if word in word_count.keys():\n",
    "        word_count[word] += 1\n",
    "    else:\n",
    "        word_count[word] = 1\n",
    "print(word_count)\n",
    "    \n",
    "word_count = defaultdict(object) #Default dictionary를 생성\n",
    "word_count = defaultdict(lambda: 0) #Default 값을 0으로 설정함\n",
    "\n",
    "for word in text:\n",
    "    word_count[word] += 1\n",
    "    \n",
    "for i, v in OrderedDict(sorted(\n",
    "        word_count.items(), key=lambda t:t[1],\n",
    "        reverse=True)).items():\n",
    "    print(i, v)"
   ]
  },
  {
   "cell_type": "markdown",
   "id": "d949aaae",
   "metadata": {},
   "source": [
    "# Counter\n",
    "### - Sequence type의 data element들의 갯수를 dict 형태로 반환"
   ]
  },
  {
   "cell_type": "code",
   "execution_count": 36,
   "id": "b8fc2088",
   "metadata": {},
   "outputs": [
    {
     "name": "stdout",
     "output_type": "stream",
     "text": [
      "Counter({'a': 3, 'l': 2, 'g': 1, 'h': 1, 'd': 1})\n"
     ]
    }
   ],
   "source": [
    "from collections import Counter\n",
    "\n",
    "c = Counter()\n",
    "c = Counter('gallahad')\n",
    "print(c)"
   ]
  },
  {
   "cell_type": "markdown",
   "id": "b33ed16c",
   "metadata": {},
   "source": [
    "# namedtuple\n",
    "### - Tuple 형태로 Data 구조체를 저장하는 방법\n",
    "### - 저장되는 data의 variable을 사전에 지정해서 저장함"
   ]
  },
  {
   "cell_type": "code",
   "execution_count": 38,
   "id": "a4ba2752",
   "metadata": {},
   "outputs": [
    {
     "name": "stdout",
     "output_type": "stream",
     "text": [
      "33\n",
      "11 22\n",
      "33\n",
      "Point(x=11, y=22)\n"
     ]
    }
   ],
   "source": [
    "from collections import namedtuple\n",
    "\n",
    "Point = namedtuple('Point', ['x', 'y'])\n",
    "p = Point(11, y = 22)\n",
    "print(p[0] + p[1])\n",
    "\n",
    "x, y = p\n",
    "print(x, y)\n",
    "print(p.x + p.y)\n",
    "print(Point(x=11, y=22))"
   ]
  }
 ],
 "metadata": {
  "kernelspec": {
   "display_name": "Python 3",
   "language": "python",
   "name": "python3"
  },
  "language_info": {
   "codemirror_mode": {
    "name": "ipython",
    "version": 3
   },
   "file_extension": ".py",
   "mimetype": "text/x-python",
   "name": "python",
   "nbconvert_exporter": "python",
   "pygments_lexer": "ipython3",
   "version": "3.8.2"
  }
 },
 "nbformat": 4,
 "nbformat_minor": 5
}
