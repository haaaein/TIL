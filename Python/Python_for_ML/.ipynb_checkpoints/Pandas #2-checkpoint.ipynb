{
 "cells": [
  {
   "cell_type": "markdown",
   "id": "e7f10570",
   "metadata": {},
   "source": [
    "# Groupby\n",
    "* SQL groupby 명령어와 같음\n",
    "* split -> apply -> combine\n",
    "* 과정을 거쳐 연산함"
   ]
  }
 ],
 "metadata": {
  "kernelspec": {
   "display_name": "Python 3",
   "language": "python",
   "name": "python3"
  },
  "language_info": {
   "codemirror_mode": {
    "name": "ipython",
    "version": 3
   },
   "file_extension": ".py",
   "mimetype": "text/x-python",
   "name": "python",
   "nbconvert_exporter": "python",
   "pygments_lexer": "ipython3",
   "version": "3.8.2"
  }
 },
 "nbformat": 4,
 "nbformat_minor": 5
}
